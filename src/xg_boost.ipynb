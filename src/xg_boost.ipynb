{
 "cells": [
  {
   "cell_type": "markdown",
   "id": "3a637b4e",
   "metadata": {},
   "source": [
    "**Import Libraries and Load Cleaned Data**\n",
    "*Required(MacOS) - install OpenMP w `brew install libomp`"
   ]
  },
  {
   "cell_type": "code",
   "execution_count": 24,
   "id": "bedfa5d7",
   "metadata": {},
   "outputs": [],
   "source": [
    "import pandas as pd\n",
    "import numpy as np\n",
    "from sklearn.model_selection import train_test_split\n",
    "from xgboost import XGBClassifier\n",
    "from sklearn.metrics import accuracy_score, precision_score, recall_score, f1_score\n",
    "from sklearn.utils import class_weight\n",
    "\n",
    "# Load the cleaned dataset\n",
    "df_cleaned = pd.read_csv('../data/cleaned_diabetes_dataset.csv')\n"
   ]
  },
  {
   "cell_type": "markdown",
   "id": "71e108c8",
   "metadata": {},
   "source": [
    "**Split Data"
   ]
  },
  {
   "cell_type": "code",
   "execution_count": 25,
   "id": "f31b77fb",
   "metadata": {},
   "outputs": [],
   "source": [
    "# Separating features and target variable\n",
    "X = df_cleaned.drop('Diabetes_012', axis=1)\n",
    "y = df_cleaned['Diabetes_012']\n",
    "\n",
    "# Split the data into training and testing sets\n",
    "X_train, X_test, y_train, y_test = train_test_split(X, y, test_size=0.2, random_state=42)"
   ]
  },
  {
   "cell_type": "markdown",
   "id": "bdbda6a7",
   "metadata": {},
   "source": [
    "TODO(gashon)(optional): use XGBoost parame `scale_pos_weight`"
   ]
  },
  {
   "cell_type": "markdown",
   "id": "297b7e01",
   "metadata": {},
   "source": [
    "**Train XGBoost Model"
   ]
  },
  {
   "cell_type": "code",
   "execution_count": 65,
   "id": "6023d683",
   "metadata": {},
   "outputs": [],
   "source": [
    "# Create an XGBoost classifier with updated parameters\n",
    "xgb_model = XGBClassifier(use_label_encoder=False, eval_metric='rmsle', max_depth=1, eta=0.0001, gamma=1)\n",
    "\n",
    "# Train the model\n",
    "xgb_model.fit(X_train, y_train)\n",
    "# Predict on the test set\n",
    "y_pred = xgb_model.predict(X_test)\n"
   ]
  },
  {
   "cell_type": "markdown",
   "id": "42eb31e9",
   "metadata": {},
   "source": [
    "##### **Model Evaluation"
   ]
  },
  {
   "cell_type": "code",
   "execution_count": 66,
   "id": "793e3614",
   "metadata": {},
   "outputs": [
    {
     "name": "stdout",
     "output_type": "stream",
     "text": [
      "Training Accuracy: 0.8421436455376853\n",
      "Accuracy: 0.8434839167455062\n",
      "Precision: 0.2811613055818354\n",
      "Recall: 0.3333333333333333\n",
      "F1 Score: 0.305032556050935\n"
     ]
    }
   ],
   "source": [
    "# Calculate evaluation metrics\n",
    "accuracy = accuracy_score(y_test, y_pred)\n",
    "precision = precision_score(y_test, y_pred, average='macro', zero_division=0)\n",
    "recall = recall_score(y_test, y_pred, average='macro')\n",
    "f1 = f1_score(y_test, y_pred, average='macro')\n",
    "\n",
    "y_train_pred = xgb_model.predict(X_train)\n",
    "train_accuracy = accuracy_score(y_train, y_train_pred)\n",
    "\n",
    "print(f\"Training Accuracy: {train_accuracy}\")\n",
    "print(f\"Accuracy: {accuracy}\")\n",
    "print(f\"Precision: {precision}\")\n",
    "print(f\"Recall: {recall}\")\n",
    "print(f\"F1 Score: {f1}\")"
   ]
  },
  {
   "cell_type": "code",
   "execution_count": null,
   "id": "cf53dae1-085f-4284-af6a-4124ee9c3879",
   "metadata": {},
   "outputs": [],
   "source": []
  }
 ],
 "metadata": {
  "kernelspec": {
   "display_name": "Python 3 (ipykernel)",
   "language": "python",
   "name": "python3"
  },
  "language_info": {
   "codemirror_mode": {
    "name": "ipython",
    "version": 3
   },
   "file_extension": ".py",
   "mimetype": "text/x-python",
   "name": "python",
   "nbconvert_exporter": "python",
   "pygments_lexer": "ipython3",
   "version": "3.9.18"
  }
 },
 "nbformat": 4,
 "nbformat_minor": 5
}
