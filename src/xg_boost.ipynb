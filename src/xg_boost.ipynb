{
 "cells": [
  {
   "cell_type": "markdown",
   "id": "3a637b4e",
   "metadata": {},
   "source": [
    "**Import Libraries and Load Cleaned Data**\n",
    "*Required(MacOS) - install OpenMP w `brew install libomp`"
   ]
  },
  {
   "cell_type": "code",
   "execution_count": 2,
   "id": "bedfa5d7",
   "metadata": {},
   "outputs": [],
   "source": [
    "import pandas as pd\n",
    "import numpy as np\n",
    "from sklearn.model_selection import train_test_split\n",
    "from xgboost import XGBClassifier\n",
    "from sklearn.metrics import accuracy_score, precision_score, recall_score, f1_score\n",
    "from sklearn.utils import class_weight\n",
    "\n",
    "# Load the cleaned dataset\n",
    "df_cleaned = pd.read_csv('../data/cleaned_diabetes_dataset.csv')\n"
   ]
  },
  {
   "cell_type": "markdown",
   "id": "71e108c8",
   "metadata": {},
   "source": [
    "**Split Data"
   ]
  },
  {
   "cell_type": "code",
   "execution_count": 6,
   "id": "f31b77fb",
   "metadata": {},
   "outputs": [],
   "source": [
    "# Separating features and target variable\n",
    "X = df_cleaned.drop('Diabetes_012', axis=1)\n",
    "y = df_cleaned['Diabetes_012']\n",
    "\n",
    "# Split the data into training and testing sets\n",
    "X_train, X_test, y_train, y_test = train_test_split(X, y, test_size=0.2, random_state=42)"
   ]
  },
  {
   "cell_type": "markdown",
   "id": "bdbda6a7",
   "metadata": {},
   "source": [
    "TODO(gashon)(optional): use XGBoost parame `scale_pos_weight`"
   ]
  },
  {
   "cell_type": "markdown",
   "id": "297b7e01",
   "metadata": {},
   "source": [
    "**Train XGBoost Model"
   ]
  },
  {
   "cell_type": "code",
   "execution_count": 9,
   "id": "6023d683",
   "metadata": {},
   "outputs": [],
   "source": [
    "# Create an XGBoost classifier with updated parameters\n",
    "xgb_model = XGBClassifier(use_label_encoder=False, eval_metric='mlogloss', random_state=42)\n",
    "\n",
    "# Train the model\n",
    "xgb_model.fit(X_train, y_train)\n",
    "\n",
    "# Predict on the test set\n",
    "y_pred = xgb_model.predict(X_test)\n"
   ]
  },
  {
   "cell_type": "markdown",
   "id": "42eb31e9",
   "metadata": {},
   "source": [
    "**Model Evaluation"
   ]
  },
  {
   "cell_type": "code",
   "execution_count": 11,
   "id": "793e3614",
   "metadata": {},
   "outputs": [
    {
     "name": "stdout",
     "output_type": "stream",
     "text": [
      "Accuracy: 0.850540050457269\n",
      "Precision: 0.47288791980781353\n",
      "Recall: 0.39135446522908807\n",
      "F1 Score: 0.4031200242585607\n"
     ]
    }
   ],
   "source": [
    "# Calculate evaluation metrics\n",
    "accuracy = accuracy_score(y_test, y_pred)\n",
    "precision = precision_score(y_test, y_pred, average='macro', zero_division=0)\n",
    "recall = recall_score(y_test, y_pred, average='macro')\n",
    "f1 = f1_score(y_test, y_pred, average='macro')\n",
    "\n",
    "print(f\"Accuracy: {accuracy}\")\n",
    "print(f\"Precision: {precision}\")\n",
    "print(f\"Recall: {recall}\")\n",
    "print(f\"F1 Score: {f1}\")"
   ]
  }
 ],
 "metadata": {
  "kernelspec": {
   "display_name": "Python 3",
   "language": "python",
   "name": "python3"
  },
  "language_info": {
   "codemirror_mode": {
    "name": "ipython",
    "version": 3
   },
   "file_extension": ".py",
   "mimetype": "text/x-python",
   "name": "python",
   "nbconvert_exporter": "python",
   "pygments_lexer": "ipython3",
   "version": "3.6.13"
  }
 },
 "nbformat": 4,
 "nbformat_minor": 5
}
