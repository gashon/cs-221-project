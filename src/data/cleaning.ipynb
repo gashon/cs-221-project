{
 "cells": [
  {
   "cell_type": "markdown",
   "id": "f08917ab",
   "metadata": {},
   "source": [
    "**Import Libraries and Load Data:"
   ]
  },
  {
   "cell_type": "code",
   "execution_count": 5,
   "id": "257e3e4d",
   "metadata": {},
   "outputs": [],
   "source": [
    "import pandas as pd\n",
    "import numpy as np\n",
    "from sklearn.preprocessing import StandardScaler, OneHotEncoder\n",
    "from sklearn.compose import ColumnTransformer"
   ]
  },
  {
   "cell_type": "code",
   "execution_count": 6,
   "id": "bd4c3525",
   "metadata": {},
   "outputs": [],
   "source": [
    "# Load the dataset\n",
    "df = pd.read_csv('../../data/raw/diabetes_012_health_indicators_BRFSS2015.csv')"
   ]
  },
  {
   "cell_type": "markdown",
   "id": "699d5ce8",
   "metadata": {},
   "source": [
    "**Handle Missing Values and Convert Categorical Variables:"
   ]
  },
  {
   "cell_type": "code",
   "execution_count": 7,
   "id": "e4680b53",
   "metadata": {},
   "outputs": [],
   "source": [
    "# Drop rows with missing values\n",
    "df.dropna(inplace=True)\n",
    "\n",
    "# Convert categorical variables with more than two categories into numerical format\n",
    "# GenHlth, Education, and Income are categorical variables\n",
    "df['GenHlth'] = df['GenHlth'].astype('category').cat.codes\n",
    "df['Education'] = df['Education'].astype('category').cat.codes\n",
    "df['Income'] = df['Income'].astype('category').cat.codes\n"
   ]
  },
  {
   "cell_type": "markdown",
   "id": "8132be3c",
   "metadata": {},
   "source": [
    "**Normalization/Standardization and Categorical Encoding:"
   ]
  },
  {
   "cell_type": "code",
   "execution_count": 8,
   "id": "82fc2c12",
   "metadata": {},
   "outputs": [],
   "source": [
    "# Identify categorical and numerical features\n",
    "categorical_features = ['Sex']\n",
    "numeric_features = df.columns.difference(['Diabetes_012', 'Sex'])\n",
    "\n",
    "# Create a column transformer for preprocessing\n",
    "preprocessor = ColumnTransformer(\n",
    "    transformers=[\n",
    "        ('num', StandardScaler(), numeric_features),\n",
    "        ('cat', OneHotEncoder(), categorical_features)])\n",
    "\n",
    "# Separate features and target\n",
    "X = df.drop('Diabetes_012', axis=1)\n",
    "y = df['Diabetes_012']\n",
    "\n",
    "# Apply transformations\n",
    "X_cleaned = preprocessor.fit_transform(X)\n",
    "\n",
    "# Create a new DataFrame with cleaned data\n",
    "df_cleaned = pd.DataFrame(X_cleaned, columns=numeric_features.tolist() + ['Sex_Male', 'Sex_Female'])\n",
    "df_cleaned['Diabetes_012'] = y.values\n",
    "\n",
    "# Save the cleaned dataset\n",
    "df_cleaned.to_csv('../../data/cleaned_diabetes_dataset.csv', index=False)\n"
   ]
  }
 ],
 "metadata": {
  "kernelspec": {
   "display_name": "Python 3",
   "language": "python",
   "name": "python3"
  },
  "language_info": {
   "codemirror_mode": {
    "name": "ipython",
    "version": 3
   },
   "file_extension": ".py",
   "mimetype": "text/x-python",
   "name": "python",
   "nbconvert_exporter": "python",
   "pygments_lexer": "ipython3",
   "version": "3.6.13"
  }
 },
 "nbformat": 4,
 "nbformat_minor": 5
}
