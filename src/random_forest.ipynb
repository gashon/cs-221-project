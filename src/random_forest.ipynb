{
 "cells": [
  {
   "cell_type": "markdown",
   "id": "2d8cbb87",
   "metadata": {},
   "source": [
    "**Import Libraries and Load Cleaned Data"
   ]
  },
  {
   "cell_type": "code",
   "execution_count": 6,
   "id": "2b78d8ae",
   "metadata": {},
   "outputs": [],
   "source": [
    "import pandas as pd\n",
    "import numpy as np\n",
    "from sklearn.model_selection import train_test_split\n",
    "from sklearn.ensemble import RandomForestClassifier\n",
    "from sklearn.metrics import accuracy_score, precision_score, recall_score, f1_score\n",
    "from sklearn.utils import class_weight\n",
    "\n",
    "# Load the cleaned dataset\n",
    "df_cleaned = pd.read_csv('../data/cleaned_diabetes_dataset.csv')"
   ]
  },
  {
   "cell_type": "markdown",
   "id": "6f7960f3",
   "metadata": {},
   "source": [
    "**Split Data and Handle Class Imbalanc"
   ]
  },
  {
   "cell_type": "code",
   "execution_count": 7,
   "id": "44ec9a3a",
   "metadata": {},
   "outputs": [],
   "source": [
    "# Separating features and target variable\n",
    "X = df_cleaned.drop('Diabetes_012', axis=1)\n",
    "y = df_cleaned['Diabetes_012']\n",
    "\n",
    "# Split the data into training and testing sets\n",
    "X_train, X_test, y_train, y_test = train_test_split(X, y, test_size=0.2, random_state=42)\n",
    "\n",
    "# Calculate class weights for imbalanced dataset\n",
    "class_weights = class_weight.compute_class_weight('balanced', classes=np.unique(y_train), y=y_train)\n",
    "class_weights_dict = {i : class_weights[i] for i in range(len(class_weights))}"
   ]
  },
  {
   "cell_type": "markdown",
   "id": "13a490c3",
   "metadata": {},
   "source": [
    "**Train Random Forest Model"
   ]
  },
  {
   "cell_type": "code",
   "execution_count": 8,
   "id": "582f7876",
   "metadata": {},
   "outputs": [],
   "source": [
    "# Create a Random Forest classifier with class weights\n",
    "rf_model = RandomForestClassifier(class_weight=class_weights_dict, random_state=42)\n",
    "\n",
    "# Train the model\n",
    "rf_model.fit(X_train, y_train)\n",
    "\n",
    "# Predict on the test set\n",
    "y_pred = rf_model.predict(X_test)\n",
    "y_train_pred = rf_model.predict(X_train)\n"
   ]
  },
  {
   "cell_type": "markdown",
   "id": "2da74a63",
   "metadata": {},
   "source": [
    "**Model Evaluation"
   ]
  },
  {
   "cell_type": "code",
   "execution_count": 9,
   "id": "5b05dd43",
   "metadata": {},
   "outputs": [
    {
     "name": "stdout",
     "output_type": "stream",
     "text": [
      "Training Accuracy: 0.9910615736360769\n",
      "Accuracy: 0.8390689057079785\n",
      "Precision: 0.4398733472394805\n",
      "Recall: 0.37845264291854663\n",
      "F1 Score: 0.3857267024801713\n"
     ]
    }
   ],
   "source": [
    "# Calculate evaluation metrics\n",
    "accuracy = accuracy_score(y_test, y_pred)\n",
    "precision = precision_score(y_test, y_pred, average='macro')\n",
    "recall = recall_score(y_test, y_pred, average='macro')\n",
    "f1 = f1_score(y_test, y_pred, average='macro')\n",
    "training_accuracy = accuracy_score(y_train, y_train_pred)\n",
    "\n",
    "print(f\"Training Accuracy: {training_accuracy}\")\n",
    "print(f\"Accuracy: {accuracy}\")\n",
    "print(f\"Precision: {precision}\")\n",
    "print(f\"Recall: {recall}\")\n",
    "print(f\"F1 Score: {f1}\")"
   ]
  }
 ],
 "metadata": {
  "kernelspec": {
   "display_name": "Python 3 (ipykernel)",
   "language": "python",
   "name": "python3"
  },
  "language_info": {
   "codemirror_mode": {
    "name": "ipython",
    "version": 3
   },
   "file_extension": ".py",
   "mimetype": "text/x-python",
   "name": "python",
   "nbconvert_exporter": "python",
   "pygments_lexer": "ipython3",
   "version": "3.9.18"
  }
 },
 "nbformat": 4,
 "nbformat_minor": 5
}
